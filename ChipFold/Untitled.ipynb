{
 "cells": [
  {
   "cell_type": "code",
   "execution_count": null,
   "id": "f1ddd0f3-ccad-4dcb-9693-163bed9c2ce2",
   "metadata": {},
   "outputs": [],
   "source": [
    "### --- Standard libraries ---\n",
    "import pandas as pd\n",
    "import numpy as np\n",
    "from scipy.stats import pearsonr\n",
    "import matplotlib.pyplot as plt\n",
    "import sys\n",
    "\n",
    "### --- Genomic tools ---\n",
    "import pysam\n",
    "from pyfaidx import Fasta  # You'll use this later for sequence extraction\n",
    "\n",
    "### --- Custom modules ---\n",
    "#from dna_io import dna_1hot\n",
    "#import models as mod\n",
    "import ChipFold.utils.conv as conv\n",
    "import ChipFold.utils.experimentalpath as exp\n",
    "\n",
    "from OccuFold.ml.funcs import dna_1hot\n",
    "import OccuFold.ml.funcs as func"
   ]
  }
 ],
 "metadata": {
  "kernelspec": {
   "display_name": "openmm-env",
   "language": "python",
   "name": "openmm-env"
  },
  "language_info": {
   "codemirror_mode": {
    "name": "ipython",
    "version": 3
   },
   "file_extension": ".py",
   "mimetype": "text/x-python",
   "name": "python",
   "nbconvert_exporter": "python",
   "pygments_lexer": "ipython3",
   "version": "3.7.12"
  }
 },
 "nbformat": 4,
 "nbformat_minor": 5
}
